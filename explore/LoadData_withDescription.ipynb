{
 "cells": [
  {
   "cell_type": "code",
   "execution_count": null,
   "metadata": {},
   "outputs": [],
   "source": [
    "import numpy as np\n",
    "import matplotlib.pyplot as plt\n",
    "import pickle\n",
    "from pathlib import Path"
   ]
  },
  {
   "cell_type": "code",
   "execution_count": null,
   "metadata": {},
   "outputs": [],
   "source": [
    "path1 = Path(\"Data/batch1.pkl\")\n",
    "batch1 = pickle.load(open(path1, 'rb'))\n",
    "\n",
    "#remove batteries that do not reach 80% capacity\n",
    "del batch1['b1c8']\n",
    "del batch1['b1c10']\n",
    "del batch1['b1c12']\n",
    "del batch1['b1c13']\n",
    "del batch1['b1c22']"
   ]
  },
  {
   "cell_type": "code",
   "execution_count": null,
   "metadata": {},
   "outputs": [],
   "source": [
    "numBat1 = len(batch1.keys())\n",
    "numBat1"
   ]
  },
  {
   "cell_type": "code",
   "execution_count": null,
   "metadata": {},
   "outputs": [],
   "source": [
    "batch1.keys()"
   ]
  },
  {
   "cell_type": "markdown",
   "metadata": {},
   "source": [
    "# 1 Cell"
   ]
  },
  {
   "cell_type": "code",
   "execution_count": null,
   "metadata": {},
   "outputs": [],
   "source": [
    "# this is all data for cell 0 from batch 1\n",
    "# The cleaned data set from all 3 batches contains 124 cells\n",
    "batch1[\"b1c0\"].keys() "
   ]
  },
  {
   "cell_type": "markdown",
   "metadata": {},
   "source": [
    "## Dict structure\n",
    "1. Cell<br>\n",
    "    1.1 Cycle Life<br>\n",
    "    1.2 Charge Policy<br>\n",
    "    1.3 Summary (per charging cycle)\n",
    "        1.3.1 Internal Resistance (Ω)\n",
    "        1.3.2 Total Quantity of Charge (Ah)\n",
    "        1.3.3 Total Quantity of Discharge (Ah)\n",
    "        1.3.4 Temp Avg (C°)\n",
    "        1.3.5 Temp min (C°)\n",
    "        1.3.6 Temp Max (C°)\n",
    "        1.3.7 Charge time (minutes)\n",
    "        1.3.8 Cycle no. (Int)\n",
    "    1.4 Cycle (all data points per cycle)\n",
    "        1.4.1 Current (C-Rate)\n",
    "        1.4.2 Quantity of Charge (Ah)\n",
    "        1.4.3 Quantity of Discharge (Ah)\n",
    "        1.4.4 Qdlin (?)\n",
    "        1.4.5 Temperature (C°)\n",
    "        1.4.6 Tdlin (?)\n",
    "        1.4.7 Voltage (V)\n",
    "        1.4.8 dQdV (?)\n",
    "        1.4.9 Time elapsed (minutes)    "
   ]
  },
  {
   "cell_type": "markdown",
   "metadata": {},
   "source": [
    "# 1.1 Cycle Life"
   ]
  },
  {
   "cell_type": "code",
   "execution_count": null,
   "metadata": {
    "scrolled": true
   },
   "outputs": [],
   "source": [
    "batch1[\"b1c0\"][\"cycle_life\"] # total number of cycles measured"
   ]
  },
  {
   "cell_type": "markdown",
   "metadata": {},
   "source": [
    "# 1.2 Charge Policy"
   ]
  },
  {
   "cell_type": "code",
   "execution_count": null,
   "metadata": {},
   "outputs": [],
   "source": [
    "\"\"\"\n",
    "A C-rate is a measure of the rate at which a battery is discharged relative to its maximum capacity.\n",
    "A 1C rate means that the discharge current will discharge the entire battery in 1 hour.\n",
    "For a battery with a capacity of 100 Amp-hrs, this equates to a discharge current of 100 Amps.\n",
    "A 5C rate for this battery would be 500 Amps, and a C/2 rate would be 50 Amps.\n",
    "We have a C3.6 rate that's 360 Ampere.\n",
    "After the battery has been charged to 80% the second part of the charging policy takes effect\"\"\"\n",
    "batch1[\"b1c0\"][\"charge_policy\"]"
   ]
  },
  {
   "cell_type": "markdown",
   "metadata": {},
   "source": [
    "# 1.3 Summary (for each charging cycle)"
   ]
  },
  {
   "cell_type": "code",
   "execution_count": null,
   "metadata": {
    "scrolled": true
   },
   "outputs": [],
   "source": [
    "batch1[\"b1c0\"][\"summary\"].keys()"
   ]
  },
  {
   "cell_type": "markdown",
   "metadata": {},
   "source": [
    "### 1.3.1 Internal Resistance"
   ]
  },
  {
   "cell_type": "code",
   "execution_count": null,
   "metadata": {},
   "outputs": [],
   "source": [
    "# Measured in Ohm\n",
    "cleaned_I = [i for i in batch1[\"b1c0\"][\"summary\"][\"IR\"] if i > 0.01]\n",
    "plt.grid()\n",
    "plt.plot(cleaned_I)\n",
    "plt.show()"
   ]
  },
  {
   "cell_type": "markdown",
   "metadata": {},
   "source": [
    "### 1.3.2/3 Quantity of charge/discharge"
   ]
  },
  {
   "cell_type": "code",
   "execution_count": null,
   "metadata": {},
   "outputs": [],
   "source": [
    "# Q is used to denote a quantity of electricity or charge. Measured in Ah.\n",
    "cleaned_QC = [i for i in batch1[\"b1c0\"][\"summary\"][\"QC\"] if 1.5 > i > 0.5]\n",
    "cleaned_QD = [i for i in batch1[\"b1c0\"][\"summary\"][\"QD\"] if 1.5 > i > 0.5]\n",
    "plt.plot(cleaned_QC, label=\"Charge\")\n",
    "plt.plot(cleaned_QD, label=\"Discharge\")\n",
    "plt.legend()\n",
    "plt.grid()\n",
    "plt.show()"
   ]
  },
  {
   "cell_type": "markdown",
   "metadata": {},
   "source": [
    "### 1.3.4/5/6 Temperature mean/min/max"
   ]
  },
  {
   "cell_type": "code",
   "execution_count": null,
   "metadata": {},
   "outputs": [],
   "source": [
    "# measured in Celcius?\n",
    "fig, (ax1, ax2, ax3) = plt.subplots(3, 1, sharex=True, sharey=True, figsize=(12,8))\n",
    "ax1.plot(batch1[\"b1c0\"][\"summary\"][\"Tavg\"][1:], label=\"AVG\")\n",
    "ax2.plot(batch1[\"b1c0\"][\"summary\"][\"Tmin\"][1:], label=\"MIN\")\n",
    "ax3.plot(batch1[\"b1c0\"][\"summary\"][\"Tmax\"][1:], label=\"MAX\")\n",
    "ax1.grid()\n",
    "ax1.legend()\n",
    "ax2.grid()\n",
    "ax2.legend()\n",
    "ax3.grid()\n",
    "ax3.legend()\n",
    "plt.show()"
   ]
  },
  {
   "cell_type": "markdown",
   "metadata": {},
   "source": [
    "### 1.3.7 Charge time"
   ]
  },
  {
   "cell_type": "code",
   "execution_count": null,
   "metadata": {},
   "outputs": [],
   "source": [
    "# measured in minutes?\n",
    "plt.figure(figsize=(15,5))\n",
    "cleaned_chargetime = [i for i in batch1[\"b1c0\"][\"summary\"][\"chargetime\"] if i > 5]\n",
    "plt.plot(cleaned_chargetime)\n",
    "plt.grid()\n",
    "plt.show()"
   ]
  },
  {
   "cell_type": "markdown",
   "metadata": {},
   "source": [
    "### 1.3.8 Cycle number"
   ]
  },
  {
   "cell_type": "code",
   "execution_count": null,
   "metadata": {},
   "outputs": [],
   "source": [
    "list(batch1[\"b1c0\"][\"summary\"][\"cycle\"])[0:10] # Number/index of charging cycle"
   ]
  },
  {
   "cell_type": "markdown",
   "metadata": {},
   "source": [
    "# 1.4 Cycles"
   ]
  },
  {
   "cell_type": "code",
   "execution_count": null,
   "metadata": {},
   "outputs": [],
   "source": [
    "list(batch1[\"b1c0\"][\"cycles\"].keys())[-10:-1] # For this cell they measured 1188 charging cycles"
   ]
  },
  {
   "cell_type": "markdown",
   "metadata": {},
   "source": [
    "### Get all data from one exemplary charging cycle, e.g. #1054"
   ]
  },
  {
   "cell_type": "code",
   "execution_count": null,
   "metadata": {},
   "outputs": [],
   "source": [
    "for key, val in batch1[\"b1c0\"][\"cycles\"][\"1054\"].items():\n",
    "    print(\"%s\\t%s\" % (key, len(val)))"
   ]
  },
  {
   "cell_type": "markdown",
   "metadata": {},
   "source": [
    "### 1.4.1 I (current in C)"
   ]
  },
  {
   "cell_type": "code",
   "execution_count": null,
   "metadata": {},
   "outputs": [],
   "source": [
    "\"\"\"\n",
    "The cell is fast charged with 4C until ~80%, then slowly full charged with 1C. \n",
    "Discharging happens with constant 4C.\n",
    "For explanation of charging policy see 1.2.\n",
    "\"\"\"\n",
    "plt.plot(batch1[\"b1c0\"][\"cycles\"][\"1054\"][\"t\"], batch1[\"b1c0\"][\"cycles\"][\"1054\"][\"I\"])\n",
    "plt.grid()\n",
    "plt.show()"
   ]
  },
  {
   "cell_type": "markdown",
   "metadata": {},
   "source": [
    "### 1.4.2/3 Qc (charge) and Qd (discharge) in Ah"
   ]
  },
  {
   "cell_type": "code",
   "execution_count": null,
   "metadata": {},
   "outputs": [],
   "source": [
    "plt.plot(batch1[\"b1c0\"][\"cycles\"][\"1054\"][\"t\"], batch1[\"b1c0\"][\"cycles\"][\"1054\"][\"Qc\"], label=\"Qc\")\n",
    "plt.plot(batch1[\"b1c0\"][\"cycles\"][\"1054\"][\"t\"], batch1[\"b1c0\"][\"cycles\"][\"1054\"][\"Qd\"], label=\"Qd\")\n",
    "plt.grid()\n",
    "plt.legend()\n",
    "plt.show()"
   ]
  },
  {
   "cell_type": "code",
   "execution_count": null,
   "metadata": {},
   "outputs": [],
   "source": [
    "# Last Cycle Measurements are recorded in Summary for Cell Cycle\n",
    "print('Qd last cycle', batch1[\"b1c0\"][\"cycles\"][\"1054\"][\"Qd\"][-1])\n",
    "print('QD summary', batch1[\"b1c0\"][\"summary\"][\"QD\"][1054])\n",
    "print('Qc last cycle', batch1[\"b1c0\"][\"cycles\"][\"1054\"][\"Qc\"][-1])\n",
    "print('QC summary', batch1[\"b1c0\"][\"summary\"][\"QC\"][1054])"
   ]
  },
  {
   "cell_type": "code",
   "execution_count": null,
   "metadata": {},
   "outputs": [],
   "source": [
    "plt.plot(batch1[\"b1c0\"][\"cycles\"][\"1054\"][\"t\"], batch1[\"b1c0\"][\"cycles\"][\"1054\"][\"Qc\"] - batch1[\"b1c0\"][\"cycles\"][\"1054\"][\"Qd\"])\n",
    "plt.grid()\n",
    "plt.show()"
   ]
  },
  {
   "cell_type": "markdown",
   "metadata": {},
   "source": [
    "### 1.4.4 Qdlin"
   ]
  },
  {
   "cell_type": "code",
   "execution_count": null,
   "metadata": {},
   "outputs": [],
   "source": [
    "from ipywidgets import interact, interactive, fixed, interact_manual\n",
    "import ipywidgets as widgets\n",
    "\n",
    "def plot_T(cell=1, cycle=2):\n",
    "    f, ax = plt.subplots(nrows=2, figsize=(4, 8))\n",
    "    ax[0].plot(\n",
    "        batch1[f\"b1c{cell}\"][\"cycles\"][f\"{cycle}\"][\"t\"],\n",
    "        batch1[f\"b1c{cell}\"][\"cycles\"][f\"{cycle}\"][\"T\"]\n",
    "    );\n",
    "    ax[0].grid()\n",
    "    ax[0].set_ylim([29,36])\n",
    "    print(\"T min: \", np.min(batch1[f\"b1c{cell}\"][\"cycles\"][f\"{cycle}\"][\"T\"]))\n",
    "    print(\"T max: \", np.max(batch1[f\"b1c{cell}\"][\"cycles\"][f\"{cycle}\"][\"T\"]))\n",
    "\n",
    "    \n",
    "    ax[1].plot(\n",
    "        batch1[f\"b1c{cell}\"][\"cycles\"][f\"{cycle}\"][\"Tdlin\"]\n",
    "    );\n",
    "    ax[1].grid()\n",
    "    ax[1].set_ylim([29,36])\n",
    "    print(\"Tdlin min: \", np.min(batch1[f\"b1c{cell}\"][\"cycles\"][f\"{cycle}\"][\"Tdlin\"]))\n",
    "    print(\"Tdlin max: \", np.max(batch1[f\"b1c{cell}\"][\"cycles\"][f\"{cycle}\"][\"Tdlin\"]))\n",
    "    \n",
    "interact(\n",
    "    plot_T,\n",
    "    cell=widgets.IntSlider(value=0, description='cell', max=40, min=0),\n",
    "    cycle=widgets.IntSlider(value=1, description='cycle', max=100, min=1)\n",
    ");"
   ]
  },
  {
   "cell_type": "code",
   "execution_count": null,
   "metadata": {},
   "outputs": [],
   "source": [
    "# Is Qdlin a smoothed out version of Qc?\n",
    "plt.plot(batch1[\"b1c0\"][\"cycles\"][\"1054\"][\"Qc\"], label=\"Qc\")\n",
    "plt.plot(batch1[\"b1c0\"][\"cycles\"][\"1054\"][\"Qdlin\"], label=\"Qdlin\")\n",
    "plt.grid()\n",
    "plt.legend()\n",
    "plt.show()"
   ]
  },
  {
   "cell_type": "markdown",
   "metadata": {},
   "source": [
    "### 1.4.5 T (temperature in Celsius)"
   ]
  },
  {
   "cell_type": "code",
   "execution_count": null,
   "metadata": {},
   "outputs": [],
   "source": [
    "plt.plot(batch1[\"b1c0\"][\"cycles\"][\"1054\"][\"t\"], batch1[\"b1c0\"][\"cycles\"][\"1054\"][\"T\"])\n",
    "plt.grid()\n",
    "plt.show()"
   ]
  },
  {
   "cell_type": "markdown",
   "metadata": {},
   "source": [
    "### 1.4.6 Tdlin"
   ]
  },
  {
   "cell_type": "code",
   "execution_count": null,
   "metadata": {},
   "outputs": [],
   "source": [
    "plt.plot(batch1[\"b1c0\"][\"cycles\"][\"1054\"][\"Tdlin\"])\n",
    "plt.grid()\n",
    "plt.show()"
   ]
  },
  {
   "cell_type": "markdown",
   "metadata": {},
   "source": [
    "### 1.4.7 V (Volt)"
   ]
  },
  {
   "cell_type": "code",
   "execution_count": null,
   "metadata": {},
   "outputs": [],
   "source": [
    "plt.plot(batch1[\"b1c0\"][\"cycles\"][\"1054\"][\"t\"], batch1[\"b1c0\"][\"cycles\"][\"1054\"][\"V\"])\n",
    "plt.grid()\n",
    "plt.show()"
   ]
  },
  {
   "cell_type": "markdown",
   "metadata": {},
   "source": [
    "### 1.4.8 dQdV"
   ]
  },
  {
   "cell_type": "code",
   "execution_count": null,
   "metadata": {},
   "outputs": [],
   "source": [
    "plt.plot(batch1[\"b1c0\"][\"cycles\"][\"1054\"][\"dQdV\"])\n",
    "plt.grid()\n",
    "plt.show()"
   ]
  },
  {
   "cell_type": "code",
   "execution_count": null,
   "metadata": {},
   "outputs": [],
   "source": [
    "plt.figure(figsize=(14,8))\n",
    "\n",
    "keys = list(batch1[\"b1c0\"][\"cycles\"].keys())\n",
    "for key in keys[1::100]:\n",
    "    plt.plot(batch1[\"b1c0\"][\"cycles\"][key][\"dQdV\"])\n",
    "\n",
    "plt.grid()    \n",
    "plt.show()"
   ]
  },
  {
   "cell_type": "code",
   "execution_count": null,
   "metadata": {},
   "outputs": [],
   "source": [
    "# plot dQdV's for one test cell\n",
    "dqdv_sample = batch1[\"b1c0\"]"
   ]
  },
  {
   "cell_type": "code",
   "execution_count": null,
   "metadata": {},
   "outputs": [],
   "source": [
    "plt.figure(figsize=(20,10))\n",
    "for i, cycle in dqdv_sample[\"cycles\"].items():\n",
    "    if int(i) % 200 == 0:\n",
    "        plt.plot(cycle[\"dQdV\"][:900], label=i)\n",
    "plt.title('dQdV, Select Cycles')\n",
    "plt.legend()\n",
    "plt.grid()\n",
    "plt.show()"
   ]
  },
  {
   "cell_type": "code",
   "execution_count": null,
   "metadata": {},
   "outputs": [],
   "source": [
    "plt.figure(figsize=(20,10))\n",
    "for i, cycle in dqdv_sample[\"cycles\"].items():\n",
    "    if int(i) % 200 == 0:\n",
    "        plt.plot(cycle[\"dQdV\"][200:300], label=i)\n",
    "plt.title('dQdV (1st 100 steps), Select Cycles')\n",
    "plt.legend()\n",
    "plt.show()"
   ]
  },
  {
   "cell_type": "code",
   "execution_count": null,
   "metadata": {},
   "outputs": [],
   "source": [
    "# dQdV, Qdlin:  what is the relationship between these two?\n",
    "plt.plot(batch1['b1c43']['cycles']['10']['Qdlin'], label='Qdlin')\n",
    "plt.plot(batch1['b1c43']['cycles']['10']['dQdV'], label='dQdV')\n",
    "plt.legend()\n",
    "plt.show()"
   ]
  },
  {
   "cell_type": "markdown",
   "metadata": {},
   "source": [
    "### 1.4.9 t (time)"
   ]
  },
  {
   "cell_type": "code",
   "execution_count": null,
   "metadata": {},
   "outputs": [],
   "source": [
    "# time elapsed at each step\n",
    "plt.plot(batch1[\"b1c0\"][\"cycles\"][\"1054\"][\"t\"])\n",
    "plt.grid()\n",
    "plt.show()"
   ]
  },
  {
   "cell_type": "code",
   "execution_count": null,
   "metadata": {},
   "outputs": [],
   "source": [
    "# time consists of float numbers that represent minutes\n",
    "list(batch1[\"b1c0\"][\"cycles\"][\"1054\"][\"t\"])[-10:-1]"
   ]
  },
  {
   "cell_type": "markdown",
   "metadata": {},
   "source": [
    "# Additional graphs"
   ]
  },
  {
   "cell_type": "code",
   "execution_count": null,
   "metadata": {},
   "outputs": [],
   "source": [
    "plt.figure(figsize=(14,8))\n",
    "\n",
    "keys = list(batch1[\"b1c0\"][\"cycles\"].keys())\n",
    "for key in keys[1::100]:\n",
    "    plt.plot(batch1[\"b1c0\"][\"cycles\"][key][\"t\"], batch1[\"b1c0\"][\"cycles\"][key][\"V\"])\n",
    "plt.title(\"Voltage (V) over time (min) for every 100th cycle\")\n",
    "plt.grid()    \n",
    "plt.show()"
   ]
  },
  {
   "cell_type": "code",
   "execution_count": null,
   "metadata": {},
   "outputs": [],
   "source": [
    "plt.figure(figsize=(14,8))\n",
    "\n",
    "keys = list(batch1[\"b1c0\"][\"cycles\"].keys())\n",
    "for key in keys[1::100]:\n",
    "    plt.plot(batch1[\"b1c0\"][\"cycles\"][key][\"Qd\"], batch1[\"b1c0\"][\"cycles\"][key][\"V\"])\n",
    "plt.title(\"Voltage (V) over charge (Ah) for every 100th cycle\")\n",
    "plt.grid()    \n",
    "plt.show()"
   ]
  },
  {
   "cell_type": "code",
   "execution_count": null,
   "metadata": {},
   "outputs": [],
   "source": [
    "import pandas as pd\n",
    "import seaborn as sns"
   ]
  },
  {
   "cell_type": "code",
   "execution_count": null,
   "metadata": {},
   "outputs": [],
   "source": [
    "cycle_df = {k: batch1[\"b1c0\"][\"cycles\"][\"1054\"][k] for k in ('I', 'Qc', 'Qd', 'T', 'V', 't')}\n",
    "cycle_df = pd.DataFrame.from_dict(cycle_df)\n",
    "sns.heatmap(cycle_df.corr(), annot=True)\n",
    "plt.show()"
   ]
  },
  {
   "cell_type": "code",
   "execution_count": null,
   "metadata": {
    "scrolled": true
   },
   "outputs": [],
   "source": [
    "lin_df = {k: batch1[\"b1c0\"][\"cycles\"][\"1054\"][k] for k in ('Qdlin', 'Tdlin', 'dQdV')}\n",
    "lin_df = pd.DataFrame.from_dict(lin_df)\n",
    "sns.heatmap(lin_df.corr(), annot=True)\n",
    "plt.show()"
   ]
  },
  {
   "cell_type": "markdown",
   "metadata": {},
   "source": [
    "Tdlin and Qdlin are on different scales but have almost the same form. Why are they so highly correlated? "
   ]
  },
  {
   "cell_type": "markdown",
   "metadata": {},
   "source": [
    "# Continue original notebook"
   ]
  },
  {
   "cell_type": "code",
   "execution_count": null,
   "metadata": {},
   "outputs": [],
   "source": [
    "path2 = Path(\"Data/batch2.pkl\")\n",
    "batch2 = pickle.load(open(path3, 'rb'))"
   ]
  },
  {
   "cell_type": "code",
   "execution_count": null,
   "metadata": {},
   "outputs": [],
   "source": [
    "# There are four cells from batch1 that carried into batch2, we'll remove the data from batch2\n",
    "# and put it with the correct cell from batch1\n",
    "batch2_keys = ['b2c7', 'b2c8', 'b2c9', 'b2c15', 'b2c16']\n",
    "batch1_keys = ['b1c0', 'b1c1', 'b1c2', 'b1c3', 'b1c4']\n",
    "add_len = [662, 981, 1060, 208, 482];"
   ]
  },
  {
   "cell_type": "code",
   "execution_count": null,
   "metadata": {},
   "outputs": [],
   "source": [
    "for i, bk in enumerate(batch1_keys):\n",
    "    batch1[bk]['cycle_life'] = batch1[bk]['cycle_life'] + add_len[i]\n",
    "    for j in batch1[bk]['summary'].keys():\n",
    "        if j == 'cycle':\n",
    "            batch1[bk]['summary'][j] = np.hstack((batch1[bk]['summary'][j], batch2[batch2_keys[i]]['summary'][j] + len(batch1[bk]['summary'][j])))\n",
    "        else:\n",
    "            batch1[bk]['summary'][j] = np.hstack((batch1[bk]['summary'][j], batch2[batch2_keys[i]]['summary'][j]))\n",
    "    last_cycle = len(batch1[bk]['cycles'].keys())\n",
    "    for j, jk in enumerate(batch2[batch2_keys[i]]['cycles'].keys()):\n",
    "        batch1[bk]['cycles'][str(last_cycle + j)] = batch2[batch2_keys[i]]['cycles'][jk]"
   ]
  },
  {
   "cell_type": "code",
   "execution_count": null,
   "metadata": {},
   "outputs": [],
   "source": [
    "del batch2['b2c7']\n",
    "del batch2['b2c8']\n",
    "del batch2['b2c9']\n",
    "del batch2['b2c15']\n",
    "del batch2['b2c16']"
   ]
  },
  {
   "cell_type": "code",
   "execution_count": null,
   "metadata": {},
   "outputs": [],
   "source": [
    "numBat2 = len(batch2.keys())\n",
    "numBat2"
   ]
  },
  {
   "cell_type": "code",
   "execution_count": null,
   "metadata": {},
   "outputs": [],
   "source": [
    "path3 = Path(\"Data/batch3.pkl\")\n",
    "batch3 = pickle.load(open(path3, 'rb'))\n",
    "\n",
    "# remove noisy channels from batch3\n",
    "del batch3['b3c37']\n",
    "del batch3['b3c2']\n",
    "del batch3['b3c23']\n",
    "del batch3['b3c32']\n",
    "del batch3['b3c38']\n",
    "del batch3['b3c39']"
   ]
  },
  {
   "cell_type": "code",
   "execution_count": null,
   "metadata": {},
   "outputs": [],
   "source": [
    "numBat3 = len(batch3.keys())\n",
    "numBat3"
   ]
  },
  {
   "cell_type": "code",
   "execution_count": null,
   "metadata": {},
   "outputs": [],
   "source": [
    "numBat = numBat1 + numBat2 + numBat3\n",
    "numBat"
   ]
  },
  {
   "cell_type": "code",
   "execution_count": null,
   "metadata": {},
   "outputs": [],
   "source": [
    "bat_dict = {**batch1, **batch2, **batch3}"
   ]
  },
  {
   "cell_type": "code",
   "execution_count": null,
   "metadata": {},
   "outputs": [],
   "source": [
    "for i in bat_dict.keys():\n",
    "    plt.plot(bat_dict[i]['summary']['cycle'], bat_dict[i]['summary']['QD'])\n",
    "plt.xlabel('Cycle Number')\n",
    "plt.ylabel('Discharge Capacity (Ah)')"
   ]
  },
  {
   "cell_type": "markdown",
   "metadata": {},
   "source": [
    "### Train and Test Split\n",
    "If you are interested in using the same train/test split as the paper, use the indices specified below"
   ]
  },
  {
   "cell_type": "code",
   "execution_count": null,
   "metadata": {},
   "outputs": [],
   "source": [
    "test_ind = np.hstack((np.arange(0,(numBat1+numBat2),2),83))\n",
    "train_ind = np.arange(1,(numBat1+numBat2-1),2)\n",
    "secondary_test_ind = np.arange(numBat-numBat3,numBat);"
   ]
  }
 ],
 "metadata": {
  "kernelspec": {
   "display_name": "Python 3",
   "language": "python",
   "name": "python3"
  },
  "language_info": {
   "codemirror_mode": {
    "name": "ipython",
    "version": 3
   },
   "file_extension": ".py",
   "mimetype": "text/x-python",
   "name": "python",
   "nbconvert_exporter": "python",
   "pygments_lexer": "ipython3",
   "version": "3.6.8"
  }
 },
 "nbformat": 4,
 "nbformat_minor": 2
}
