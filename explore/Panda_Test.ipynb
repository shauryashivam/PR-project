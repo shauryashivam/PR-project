{
 "cells": [
  {
   "cell_type": "code",
   "execution_count": null,
   "metadata": {},
   "outputs": [],
   "source": [
    "import pandas as pd"
   ]
  },
  {
   "cell_type": "code",
   "execution_count": null,
   "metadata": {},
   "outputs": [],
   "source": [
    "# from load data notebook\n",
    "import numpy as np\n",
    "import matplotlib.pyplot as plt\n",
    "import pickle\n",
    "\n",
    "batch1 = pickle.load(open(r'./Data/batch1.pkl', 'rb'))\n",
    "\n",
    "#remove batteries that do not reach 80% capacity\n",
    "del batch1['b1c8']\n",
    "del batch1['b1c10']\n",
    "del batch1['b1c12']\n",
    "del batch1['b1c13']\n",
    "del batch1['b1c22']"
   ]
  },
  {
   "cell_type": "code",
   "execution_count": null,
   "metadata": {},
   "outputs": [],
   "source": [
    "batch1['b1c15']['cycles']['10']"
   ]
  },
  {
   "cell_type": "code",
   "execution_count": null,
   "metadata": {},
   "outputs": [],
   "source": [
    "print('cell keys:', batch1['b1c15'].keys())\n",
    "print('cycle keys (1 cycle):', batch1['b1c15']['cycles']['15'].keys())\n",
    "for (k, v) in batch1['b1c15']['cycles']['15'].items():\n",
    "    print(k, '\\t', len(v))\n",
    "print('summary keys:', batch1['b1c15']['summary'].keys())\n",
    "for (k, v) in batch1['b1c15']['summary'].items():\n",
    "    print(k, '\\t', len(v))"
   ]
  },
  {
   "cell_type": "code",
   "execution_count": null,
   "metadata": {},
   "outputs": [],
   "source": [
    "# smaller batch test\n",
    "batch_small = dict([('b1c15', batch1['b1c15']), ('b1c16', batch1['b1c16'])])\n",
    "df_small = None\n",
    "for i, cell in batch_small.items():\n",
    "    print('processing cell', i)\n",
    "    frames = [ pd.DataFrame.from_dict(cycle, orient='index').transpose() for j, cycle in cell['cycles'].items() ]\n",
    "    df_c = pd.concat(frames, keys=cell['cycles'].keys())\n",
    "    df_c.insert(loc=0, column='cell', value=i)\n",
    "    df_c.insert(loc=1, column='charge_policy', value=cell['charge_policy'])\n",
    "    # TODO other summary fields\n",
    "    if df_small is None:\n",
    "        df_small = df_c\n",
    "    else:\n",
    "        df_small = df_small.append(df_c)\n",
    "\n",
    "df_small.reset_index(inplace=True)\n",
    "df_small.rename(index=str, columns={'level_0': 'cycle', 'level_1': 'step'}, inplace=True)"
   ]
  },
  {
   "cell_type": "code",
   "execution_count": null,
   "metadata": {},
   "outputs": [],
   "source": [
    "print(df_small.shape)\n",
    "# last 50 steps of cell 16\n",
    "df_small.iloc[-5:]\n",
    "# first 50 steps of cell 15\n",
    "# df_small.head(50)"
   ]
  },
  {
   "cell_type": "code",
   "execution_count": null,
   "metadata": {},
   "outputs": [],
   "source": [
    "# plot dQdV's for one test cell\n",
    "plt.figure(figsize=(20,10))\n",
    "for i, cycle in batch1[\"b1c5\"][\"cycles\"].items():\n",
    "    if int(i) % 200 == 0:\n",
    "        plt.plot(cycle[\"dQdV\"][:100], label=i)\n",
    "plt.title('dQdV, 1st 100 steps')\n",
    "plt.legend()\n",
    "plt.show()"
   ]
  },
  {
   "cell_type": "code",
   "execution_count": null,
   "metadata": {},
   "outputs": [],
   "source": [
    "# the whole shebang\n",
    "# TAKES A LONG TIME\n",
    "df = None\n",
    "for i, cell in batch1.items():\n",
    "    print('processing cell', i)\n",
    "    frames = [ pd.DataFrame.from_dict(cycle, orient='index').transpose() for j, cycle in cell['cycles'].items() ]\n",
    "    df_c = pd.concat(frames, keys=cell['cycles'].keys())\n",
    "    df_c.insert(loc=0, column='cell', value=i)\n",
    "    df_c.insert(loc=1, column='charge_policy', value=cell['charge_policy'])\n",
    "    # TODO other summary fields\n",
    "    if df is None:\n",
    "        df = df_c\n",
    "    else:\n",
    "        df = df.append(df_c)\n",
    "\n",
    "df.reset_index(inplace=True)\n",
    "df.rename(index=str, columns={'level_0': 'cycle', 'level_1': 'step'})"
   ]
  },
  {
   "cell_type": "code",
   "execution_count": null,
   "metadata": {},
   "outputs": [],
   "source": [
    "print(df.shape)  # (36468361, 11)\n",
    "df.head()"
   ]
  },
  {
   "cell_type": "code",
   "execution_count": null,
   "metadata": {},
   "outputs": [],
   "source": [
    "df.charge_policy.value_counts()"
   ]
  },
  {
   "cell_type": "code",
   "execution_count": null,
   "metadata": {},
   "outputs": [],
   "source": []
  }
 ],
 "metadata": {
  "kernelspec": {
   "display_name": "Python 3",
   "language": "python",
   "name": "python3"
  },
  "language_info": {
   "codemirror_mode": {
    "name": "ipython",
    "version": 3
   },
   "file_extension": ".py",
   "mimetype": "text/x-python",
   "name": "python",
   "nbconvert_exporter": "python",
   "pygments_lexer": "ipython3",
   "version": "3.7.3"
  }
 },
 "nbformat": 4,
 "nbformat_minor": 2
}
