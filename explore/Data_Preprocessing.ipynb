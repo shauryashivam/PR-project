{
 "cells": [
  {
   "cell_type": "code",
   "execution_count": null,
   "metadata": {},
   "outputs": [],
   "source": [
    "import numpy as np\n",
    "import pandas as pd\n",
    "import matplotlib.pyplot as plt\n",
    "from rebuilding_features import load_batches_to_dict\n",
    "from data_preprocessing import preprocess_batch, preprocess_cycle, plot_preprocessing_results\n",
    "from generic_helpers import print_dict_keys"
   ]
  },
  {
   "cell_type": "markdown",
   "metadata": {},
   "source": [
    "# Usage of preprocessing\n",
    "\n",
    "### Final Results dict structure\n",
    "(same as original dataset, without the fluff)\n",
    "\n",
    "#### Batch\n",
    "- [\"b1c1\"]\n",
    "\n",
    "\n",
    "    - [\"cycle_life\"]\n",
    "    \n",
    "    - [\"summary\"]\n",
    "        - [\"IR\"]\n",
    "        - [\"QD\"]\n",
    "        - [\"remaining_cycle_life\"]\n",
    "        - [\"high_current_discharging_time\"]\n",
    "        \n",
    "    - [\"cycles\"]\n",
    "        - [\"1\"]\n",
    "            -[\"Qd_resample\"]\n",
    "            -[\"T_resample\"]\n",
    "            -[\"V_resample\"]\n",
    "            \n",
    "            Only if specified in preprocessing function with \"return_original_data\":\n",
    "            -[\"Qd_original_data\"]\n",
    "            -[\"T_original_data\"]\n",
    "            -[\"V_original_data\"]\n",
    "            -[\"t_original_data\"]\n",
    "        \n",
    "        - [\"2\"] ...\n",
    "        - [\"3\"] ...\n",
    "        \n",
    "        \n",
    "- [\"b1c2\"] ..."
   ]
  },
  {
   "cell_type": "code",
   "execution_count": null,
   "metadata": {},
   "outputs": [],
   "source": [
    "batch1 = load_batches_to_dict(amount_to_load=1)"
   ]
  },
  {
   "cell_type": "code",
   "execution_count": null,
   "metadata": {
    "scrolled": false
   },
   "outputs": [],
   "source": [
    "results = preprocess_batch(batch1, return_original_data=True, verbose=True)"
   ]
  },
  {
   "cell_type": "code",
   "execution_count": null,
   "metadata": {
    "scrolled": false
   },
   "outputs": [],
   "source": [
    "print_dict_keys(results, max_depth=1)"
   ]
  },
  {
   "cell_type": "code",
   "execution_count": null,
   "metadata": {},
   "outputs": [],
   "source": [
    "plot_preprocessing_results(results[\"b1c1\"][\"cycles\"][\"6\"])"
   ]
  },
  {
   "cell_type": "markdown",
   "metadata": {},
   "source": [
    "# Additional plots for better understanding"
   ]
  },
  {
   "cell_type": "code",
   "execution_count": null,
   "metadata": {},
   "outputs": [],
   "source": [
    "cell1 = batch1[\"b1c1\"]\n",
    "cycle = cell1[\"cycles\"][\"2\"]\n",
    "\n",
    "I = cycle[\"I\"]\n",
    "Qd = cycle[\"Qd\"]\n",
    "T = cycle[\"T\"]\n",
    "V = cycle[\"V\"]\n",
    "t = cycle[\"t\"]\n",
    "print(Qd)\n",
    "print(Qd.size)"
   ]
  },
  {
   "cell_type": "code",
   "execution_count": null,
   "metadata": {
    "scrolled": false
   },
   "outputs": [],
   "source": [
    "# Plots over time\n",
    "\n",
    "fig, ax = plt.subplots(nrows=2, ncols=2, figsize=(15, 10))\n",
    "ax[0][0].plot(t, I)\n",
    "ax[0][0].set_title(\"I\")\n",
    "\n",
    "ax[0][1].plot(t, Qd)\n",
    "ax[0][1].set_title(\"Qd\")\n",
    "\n",
    "ax[1][0].plot(t, T)\n",
    "ax[1][0].set_title(\"T\")\n",
    "\n",
    "ax[1][1].plot(t, V)\n",
    "ax[1][1].set_title(\"V\")"
   ]
  },
  {
   "cell_type": "code",
   "execution_count": null,
   "metadata": {
    "scrolled": false
   },
   "outputs": [],
   "source": [
    "# Plots over Voltage\n",
    "\n",
    "fig, ax = plt.subplots(nrows=2, ncols=2, figsize=(15, 10))\n",
    "ax[0][0].plot(V, I)\n",
    "ax[0][0].set_title(\"I\")\n",
    "\n",
    "ax[0][1].plot(V, Qd)\n",
    "ax[0][1].set_title(\"Qd\")\n",
    "\n",
    "ax[1][0].plot(V, T)\n",
    "ax[1][0].set_title(\"T\")\n",
    "\n",
    "ax[1][1].plot(V, V)\n",
    "ax[1][1].set_title(\"V\")"
   ]
  },
  {
   "cell_type": "code",
   "execution_count": null,
   "metadata": {},
   "outputs": [],
   "source": [
    "# # Comparing the effect of different conditions on Voltage span \n",
    "\n",
    "# cond1 = V < 3.5  # Cut off potential measurement inaccuracies because of the steep slope at the start of discharge.\n",
    "# cond2 = V >= 2.0  # Only start after the first discharge capacity was detected.\n",
    "# cond3 = I < -3.99 # Only consider measurements that were taken during high current discharging.\n",
    "\n",
    "# \"\"\"\n",
    "# 2 options for the threshold of I:\n",
    "# I < 0      --> discharging in general    --> resulting time span for b1c1: 20.00 minutes\n",
    "# I < -3.99  --> high current discharging  --> resulting time span for b1c1: 14.49 minutes\n",
    "\n",
    "# -3.99 was chosen under the assumption, that the highest signal for aging is in the high current region.\n",
    "# The -3.99 threshold also cleans up the curves near the end of discharge (with almost constant voltage).\n",
    "\n",
    "# Important Note: The time span of measurements during discharging gets cut signaficantly by this threshold,\n",
    "#     while the main body of the curves Qd and T stays the same.\n",
    "# \"\"\"\n",
    "\n",
    "# print(\"Without conditions: \", V.max(), V.min(), \"time span: \", t.max()-t.min())\n",
    "# print(\"cond1: \", V[cond1].max(), V[cond1].min(), \"time span: \", t[cond1].max()-t[cond1].min())\n",
    "# print(\"cond2: \", V[cond2].max(), V[cond2].min(), \"time span: \", t[cond2].max()-t[cond2].min())\n",
    "# print(\"cond3: \", V[cond3].max(), V[cond3].min(), \"time span: \", t[cond3].max()-t[cond3].min())\n",
    "\n",
    "# cond12 = cond1 & cond2\n",
    "# cond13 = cond1 & cond3\n",
    "# cond23 = cond2 & cond3\n",
    "# print(\"cond1 & cond2: \", V[cond12].max(), V[cond12].min(), \"time span: \", t[cond12].max()-t[cond12].min())\n",
    "# print(\"cond1 & cond3: \", V[cond13].max(), V[cond13].min(), \"time span: \", t[cond13].max()-t[cond13].min())\n",
    "# print(\"cond2 & cond3: \", V[cond23].max(), V[cond23].min(), \"time span: \", t[cond23].max()-t[cond23].min())\n",
    "\n",
    "# cond123 = cond1 & cond2 & cond3\n",
    "# print(\"cond1 & cond2 & cond3: \", V[cond123].max(), V[cond123].min(), \"time span: \", t[cond123].max()-t[cond123].min())"
   ]
  },
  {
   "cell_type": "code",
   "execution_count": null,
   "metadata": {},
   "outputs": [],
   "source": [
    "# Plot only the measurements during high current discharging\n",
    "cond = I < -3.99\n",
    "\n",
    "fig, ax = plt.subplots(nrows=2, ncols=2, figsize=(15, 10))\n",
    "ax[0][0].scatter(I[cond], V[cond])\n",
    "ax[0][0].set_title(\"I\")\n",
    "\n",
    "ax[0][1].plot(Qd[cond], V[cond])\n",
    "ax[0][1].set_title(\"Qd\")\n",
    "\n",
    "ax[1][0].plot(T[cond], V[cond])\n",
    "ax[1][0].set_title(\"T\")"
   ]
  },
  {
   "cell_type": "code",
   "execution_count": null,
   "metadata": {},
   "outputs": [],
   "source": [
    "# Visualizing the effect of the I threshold on Qd and T\n",
    "\n",
    "I_thresh = -3.99\n",
    "\n",
    "fig, ax = plt.subplots(nrows=2, figsize=(10, 10))\n",
    "\n",
    "for i, cycle in enumerate(cell1[\"cycles\"].values()):\n",
    "    if i == 0:\n",
    "        continue\n",
    "    if i % 100 == 0:\n",
    "        mask = cycle[\"I\"] < I_thresh\n",
    "        print(\"i:\", i, \" size Qd:\", cycle[\"Qd\"][mask].size)\n",
    "        \n",
    "        ax[0].plot(cycle[\"Qd\"][mask], cycle[\"V\"][mask], label=i, color=plt.cm.Blues(i/len(cell1[\"cycles\"])))\n",
    "        ax[0].set_title(\"Qd\")\n",
    "        \n",
    "        ax[1].plot(cycle[\"T\"][mask], cycle[\"V\"][mask], label=i, color=plt.cm.Blues(i/len(cell1[\"cycles\"])))\n",
    "        ax[1].set_title(\"T\")\n",
    "\n",
    "ax[0].legend()\n",
    "ax[1].legend()\n",
    "plt.plot()"
   ]
  }
 ],
 "metadata": {
  "kernelspec": {
   "display_name": "Python 3",
   "language": "python",
   "name": "python3"
  },
  "language_info": {
   "codemirror_mode": {
    "name": "ipython",
    "version": 3
   },
   "file_extension": ".py",
   "mimetype": "text/x-python",
   "name": "python",
   "nbconvert_exporter": "python",
   "pygments_lexer": "ipython3",
   "version": "3.6.8"
  }
 },
 "nbformat": 4,
 "nbformat_minor": 2
}
