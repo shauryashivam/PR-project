{
 "cells": [
  {
   "cell_type": "code",
   "execution_count": null,
   "metadata": {},
   "outputs": [],
   "source": [
    "import tensorflow as tf\n",
    "import numpy as np\n",
    "import json\n",
    "\n",
    "# change working directory to base, to make all imports and file paths work\n",
    "import os\n",
    "os.chdir(os.pardir)\n",
    "print(\"Current directory: %s\" % os.getcwd())\n",
    "\n",
    "import trainer.data_pipeline as dp\n",
    "import trainer.constants as cst"
   ]
  },
  {
   "cell_type": "code",
   "execution_count": null,
   "metadata": {},
   "outputs": [],
   "source": [
    "# make sure that saved_model has been created with the same version of TensorFlow\n",
    "tf.__version__"
   ]
  },
  {
   "cell_type": "code",
   "execution_count": null,
   "metadata": {},
   "outputs": [],
   "source": [
    "model_dir = \"data/saved_model/\"\n",
    "dataset_dir = cst.TEST_SET"
   ]
  },
  {
   "cell_type": "code",
   "execution_count": null,
   "metadata": {},
   "outputs": [],
   "source": [
    "model = tf.keras.experimental.load_from_saved_model(model_dir)"
   ]
  },
  {
   "cell_type": "code",
   "execution_count": null,
   "metadata": {},
   "outputs": [],
   "source": [
    "# Predict with numpy array\n",
    "qdlin = np.random.random([5,20,1000, 1])\n",
    "tdlin = np.random.random([5,20,1000, 1])\n",
    "ir = np.random.random([5,20,1])\n",
    "discharge_time = np.random.random([5,20,1])\n",
    "qd = np.random.random([5,20,1])\n",
    "\n",
    "x_test = {\"Qdlin\":qdlin,\n",
    "         \"Tdlin\":tdlin,\n",
    "         \"IR\":ir,\n",
    "         \"Discharge_time\":discharge_time,\n",
    "         \"QD\":qd}"
   ]
  },
  {
   "cell_type": "code",
   "execution_count": null,
   "metadata": {},
   "outputs": [],
   "source": [
    "model.predict(x_test)"
   ]
  },
  {
   "cell_type": "code",
   "execution_count": null,
   "metadata": {},
   "outputs": [],
   "source": [
    "# Predict with dataset\n",
    "dataset = dp.create_dataset(dataset_dir,\n",
    "                           window_size=20,\n",
    "                           shift=5,\n",
    "                           stride=1,\n",
    "                           batch_size=16,\n",
    "                           repeat=None)\n",
    "\n",
    "model.predict(dataset)"
   ]
  },
  {
   "cell_type": "code",
   "execution_count": null,
   "metadata": {},
   "outputs": [],
   "source": [
    "# Generate sample input JSON file\n",
    "x_test = { 'Qdlin': json.dumps(qdlin.tolist()),\n",
    "           'Tdlin': json.dumps(tdlin.tolist()),\n",
    "           'IR': json.dumps(ir.tolist()),\n",
    "           'Discharge_time': json.dumps(discharge_time.tolist()),\n",
    "           'QD': json.dumps(qd.tolist()) }\n",
    "\n",
    "with open('sample_input.json', 'w') as test_file:\n",
    "    json.dump(x_test, test_file)"
   ]
  }
 ],
 "metadata": {
  "kernelspec": {
   "display_name": "Python 3",
   "language": "python",
   "name": "python3"
  },
  "language_info": {
   "codemirror_mode": {
    "name": "ipython",
    "version": 3
   },
   "file_extension": ".py",
   "mimetype": "text/x-python",
   "name": "python",
   "nbconvert_exporter": "python",
   "pygments_lexer": "ipython3",
   "version": "3.7.3"
  }
 },
 "nbformat": 4,
 "nbformat_minor": 2
}
