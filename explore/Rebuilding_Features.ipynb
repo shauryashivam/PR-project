{
 "cells": [
  {
   "cell_type": "markdown",
   "metadata": {},
   "source": [
    "# All used features for the three regression model implementations:\n",
    "\n",
    "1. delta_Q<sub>100-10</sub>(V)\n",
    "    - Minimum\n",
    "    - Vairance\n",
    "    - Skewness\n",
    "    - Kurtosis\n",
    "    \n",
    "    \n",
    "2. Discharge capacity fade curve features\n",
    "    - Slope of the linear fit to the capacity fade curve, cycles 2 to 100\n",
    "    - Intercept of the linear fit to capavity face curve, cycles 2 to 100\n",
    "    - Discharge capacity, cycle 2\n",
    "    - Difference between max discharge capacity and cycle 2\n",
    "    \n",
    "    \n",
    "3. Other features\n",
    "    - Average charge time, first 5 cycles\n",
    "    - Integral of temperature over time, cycles 2 to 100\n",
    "    - Minimum internal resistance, difference between cycle 100 and cycle 2\n",
    "    "
   ]
  },
  {
   "cell_type": "code",
   "execution_count": null,
   "metadata": {},
   "outputs": [],
   "source": [
    "# Replicating Load Data logic\n",
    "\n",
    "import numpy as np\n",
    "import pandas as pd\n",
    "from scipy.stats import skew, kurtosis\n",
    "import matplotlib.pyplot as plt\n",
    "import pickle\n",
    "from pathlib import Path\n",
    "from sklearn.linear_model import LinearRegression"
   ]
  },
  {
   "cell_type": "code",
   "execution_count": null,
   "metadata": {},
   "outputs": [],
   "source": [
    "path1 = Path(\"Data/batch1.pkl\")\n",
    "batch1 = pickle.load(open(path1, 'rb'))\n",
    "\n",
    "#remove batteries that do not reach 80% capacity\n",
    "del batch1['b1c8']\n",
    "del batch1['b1c10']\n",
    "del batch1['b1c12']\n",
    "del batch1['b1c13']\n",
    "del batch1['b1c22']\n",
    "\n",
    "numBat1 = len(batch1.keys())\n",
    "numBat1"
   ]
  },
  {
   "cell_type": "code",
   "execution_count": null,
   "metadata": {},
   "outputs": [],
   "source": [
    "features_df = pd.DataFrame()\n",
    "features_df['cell_key'] = np.array(list(batch1.keys()))\n",
    "features_df.head()"
   ]
  },
  {
   "cell_type": "markdown",
   "metadata": {},
   "source": [
    "### 1. delta_Q<sub>100-10</sub>(V)"
   ]
  },
  {
   "cell_type": "code",
   "execution_count": null,
   "metadata": {},
   "outputs": [],
   "source": [
    "minimum_dQ_100_10 = np.zeros(len(batch1.keys()))\n",
    "variance_dQ_100_10 = np.zeros(len(batch1.keys()))\n",
    "skewness_dQ_100_10 = np.zeros(len(batch1.keys()))\n",
    "kurtosis_dQ_100_10 = np.zeros(len(batch1.keys()))\n",
    "\n",
    "for i, cell in enumerate(batch1.values()):\n",
    "    c10 = cell['cycles']['10']\n",
    "    c100 = cell['cycles']['100']\n",
    "    dQ_100_10 = c100['Qdlin'] - c10['Qdlin']\n",
    "    \n",
    "    minimum_dQ_100_10[i] = np.log(np.abs(np.min(dQ_100_10)))\n",
    "    variance_dQ_100_10[i] = np.log(np.var(dQ_100_10))\n",
    "    skewness_dQ_100_10[i] = np.log(np.abs(skew(dQ_100_10)))\n",
    "    kurtosis_dQ_100_10[i] = np.log(np.abs(kurtosis(dQ_100_10)))\n",
    "\n",
    "features_df[\"minimum_dQ_100_10\"] = minimum_dQ_100_10\n",
    "features_df[\"variance_dQ_100_10\"] = variance_dQ_100_10\n",
    "features_df[\"skewness_dQ_100_10\"] = skewness_dQ_100_10\n",
    "features_df[\"kurtosis_dQ_100_10\"] = kurtosis_dQ_100_10\n",
    "\n",
    "features_df.head()"
   ]
  },
  {
   "cell_type": "markdown",
   "metadata": {},
   "source": [
    "### 2. Discharge capacity fade curve features"
   ]
  },
  {
   "cell_type": "code",
   "execution_count": null,
   "metadata": {},
   "outputs": [],
   "source": [
    "slope_lin_fit_2_100 = np.zeros(len(batch1.keys()))\n",
    "intercept_lin_fit_2_100 = np.zeros(len(batch1.keys()))\n",
    "discharge_capacity_2 = np.zeros(len(batch1.keys()))\n",
    "diff_discharge_capacity_max_2 = np.zeros(len(batch1.keys()))\n",
    "\n",
    "for i, cell in enumerate(batch1.values()):\n",
    "    # Compute linear fit for cycles 2 to 100:\n",
    "    q = cell['summary']['QD'][1:100].reshape(-1, 1)  # discharge cappacities; q.shape = (99, 1); \n",
    "    X = cycle_numbers = cell['summary']['cycle'][1:100].reshape(-1, 1)  # Cylce index from 2 to 100; X.shape = (99, 1)\n",
    "    \n",
    "    linear_regressor_2_100 = LinearRegression()\n",
    "    linear_regressor_2_100.fit(X, q)\n",
    "    \n",
    "    slope_lin_fit_2_100[i] = linear_regressor_2_100.coef_[0]\n",
    "    intercept_lin_fit_2_100[i] = linear_regressor_2_100.intercept_\n",
    "    discharge_capacity_2[i] = q[0][0]\n",
    "    diff_discharge_capacity_max_2[i] = np.max(q) - q[0][0]\n",
    "    \n",
    "features_df[\"slope_lin_fit_2_100\"] = slope_lin_fit_2_100\n",
    "features_df[\"intercept_lin_fit_2_100\"] = intercept_lin_fit_2_100\n",
    "features_df[\"discharge_capacity_2\"] = discharge_capacity_2\n",
    "features_df[\"diff_discharge_capacity_max_2\"] = diff_discharge_capacity_max_2\n",
    "\n",
    "features_df.head()"
   ]
  },
  {
   "cell_type": "markdown",
   "metadata": {},
   "source": [
    "### 3. Other features"
   ]
  },
  {
   "cell_type": "code",
   "execution_count": null,
   "metadata": {},
   "outputs": [],
   "source": [
    "mean_charge_time = np.zeros(len(batch1.keys()))\n",
    "minimun_IR = np.zeros(len(batch1.keys()))\n",
    "diff_IR_100_2 = np.zeros(len(batch1.keys()))\n",
    "\n",
    "\n",
    "for i, cell in enumerate(batch1.values()):\n",
    "    mean_charge_time[i] = np.mean(cell['summary']['chargetime'][1:6])\n",
    "    minimun_IR[i] = np.min(cell['summary']['IR'][1:100])\n",
    "    diff_IR_100_2[i] = cell['summary']['IR'][100] - cell['summary']['IR'][1]\n",
    "    \n",
    "features_df[\"mean_charge_time\"] = mean_charge_time\n",
    "features_df[\"minimun_IR\"] = minimun_IR\n",
    "features_df[\"diff_IR_100_2\"] = diff_IR_100_2\n",
    "\n",
    "features_df.head()"
   ]
  },
  {
   "cell_type": "code",
   "execution_count": null,
   "metadata": {},
   "outputs": [],
   "source": [
    "# There are some outliers, which might have to be taken care of\n",
    "features_df.head()"
   ]
  }
 ],
 "metadata": {
  "kernelspec": {
   "display_name": "Python 3",
   "language": "python",
   "name": "python3"
  },
  "language_info": {
   "codemirror_mode": {
    "name": "ipython",
    "version": 3
   },
   "file_extension": ".py",
   "mimetype": "text/x-python",
   "name": "python",
   "nbconvert_exporter": "python",
   "pygments_lexer": "ipython3",
   "version": "3.6.8"
  }
 },
 "nbformat": 4,
 "nbformat_minor": 2
}
