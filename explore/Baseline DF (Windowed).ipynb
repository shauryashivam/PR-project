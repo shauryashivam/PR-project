{
 "cells": [
  {
   "cell_type": "code",
   "execution_count": null,
   "metadata": {},
   "outputs": [],
   "source": [
    "import pickle\n",
    "import numpy as np\n",
    "import pandas as pd\n",
    "\n",
    "from scipy.stats import skew, kurtosis\n",
    "from sklearn.linear_model import LinearRegression"
   ]
  },
  {
   "cell_type": "code",
   "execution_count": null,
   "metadata": {},
   "outputs": [],
   "source": [
    "# change working directory to base, to make all imports and file paths work\n",
    "import os\n",
    "os.chdir(os.pardir)\n",
    "print(\"Current directory: %s\" % os.getcwd())"
   ]
  },
  {
   "cell_type": "code",
   "execution_count": null,
   "metadata": {},
   "outputs": [],
   "source": [
    "import trainer.constants as cst"
   ]
  },
  {
   "cell_type": "code",
   "execution_count": null,
   "metadata": {},
   "outputs": [],
   "source": [
    "# window defaults\n",
    "window_size = 20\n",
    "shift = 20\n",
    "stride = 1\n",
    "batch_size = 16"
   ]
  },
  {
   "cell_type": "code",
   "execution_count": null,
   "metadata": {},
   "outputs": [],
   "source": [
    "preprocessed_pkl = pickle.load(open(cst.PROCESSED_DATA, \"rb\"))  # dict"
   ]
  },
  {
   "cell_type": "code",
   "execution_count": null,
   "metadata": {},
   "outputs": [],
   "source": [
    "preprocessed_pkl.keys()"
   ]
  },
  {
   "cell_type": "code",
   "execution_count": null,
   "metadata": {},
   "outputs": [],
   "source": [
    "preprocessed_pkl['b1c0']['summary'].keys()"
   ]
  },
  {
   "cell_type": "code",
   "execution_count": null,
   "metadata": {},
   "outputs": [],
   "source": [
    "preprocessed_pkl['b1c0']['cycles'].keys()"
   ]
  },
  {
   "cell_type": "code",
   "execution_count": null,
   "metadata": {},
   "outputs": [],
   "source": [
    "preprocessed_pkl['b1c0']['cycles']['1'].keys()"
   ]
  },
  {
   "cell_type": "code",
   "execution_count": null,
   "metadata": {},
   "outputs": [],
   "source": [
    "# fullmod_features = [\n",
    "#     \"minimum_dQ_100_10\",\n",
    "#     \"variance_dQ_100_10\",\n",
    "#     \"slope_lin_fit_2_100\",\n",
    "#     \"intercept_lin_fit_2_100\",\n",
    "#     \"discharge_capacity_2\",\n",
    "#     \"mean_charge_time_2_6\",\n",
    "#     \"minimum_IR_2_100\",\n",
    "#     \"diff_IR_100_2\",\n",
    "# ]"
   ]
  },
  {
   "cell_type": "code",
   "execution_count": null,
   "metadata": {},
   "outputs": [],
   "source": [
    "cell_dfs = []\n",
    "for cell_k, cell_v in preprocessed_pkl.items():\n",
    "    print('processing', cell_k)\n",
    "    # init arrays for values\n",
    "    total_cycles = len(cell_v['cycles'])\n",
    "    num_windows = int( (total_cycles-window_size) // shift) + 1\n",
    "    sanity_check = int(total_cycles//shift)\n",
    "    print('num_windows', num_windows, 'total_cycles', total_cycles)\n",
    "    assert num_windows == sanity_check"
   ]
  },
  {
   "cell_type": "code",
   "execution_count": null,
   "metadata": {},
   "outputs": [],
   "source": [
    "# work out details on specific cell\n",
    "cell_k = 'b1c0'\n",
    "cell_v = preprocessed_pkl[cell_k]\n",
    "cell_cycles = cell_v['cycles']\n",
    "total_cycles = len(cell_cycles)\n",
    "cell_summary = cell_v['summary']"
   ]
  },
  {
   "cell_type": "code",
   "execution_count": null,
   "metadata": {},
   "outputs": [],
   "source": [
    "# slice cycle keys into windows\n",
    "cycle_keys = list(cell_cycles.keys())\n",
    "window_cycle_keys = []\n",
    "for i, w_slice in enumerate(range(0, len(cycle_keys), shift)):\n",
    "    cycle_keys_slice = cycle_keys[w_slice : w_slice + window_size]\n",
    "    if len(cycle_keys_slice) % window_size == 0:  # drop remainder\n",
    "        window_cycle_keys.append(cycle_keys_slice)"
   ]
  },
  {
   "cell_type": "code",
   "execution_count": null,
   "metadata": {},
   "outputs": [],
   "source": [
    "num_windows = len(window_cycle_keys)\n",
    "# sanity check\n",
    "assert num_windows == int((total_cycles-window_size) // shift) + 1\n",
    "print('num_windows', num_windows, 'total_cycles', total_cycles)\n",
    "minimum_dQ_window = np.zeros(num_windows)\n",
    "variance_dQ_window = np.zeros(num_windows)\n",
    "slope_lin_fit_window = np.zeros(num_windows)\n",
    "intercept_lin_fit_window = np.zeros(num_windows)\n",
    "discharge_capacity_2 = np.zeros(num_windows)\n",
    "mean_charge_time_2_6 = np.zeros(num_windows)\n",
    "minimum_IR_window = np.zeros(num_windows)\n",
    "diff_IR_window = np.zeros(num_windows)\n",
    "target_remaining = np.zeros(num_windows)\n",
    "target_current = np.zeros(num_windows)"
   ]
  },
  {
   "cell_type": "code",
   "execution_count": null,
   "metadata": {},
   "outputs": [],
   "source": [
    "for i, window_keys in enumerate(window_cycle_keys):\n",
    "    key_c2 = window_keys[1]\n",
    "    key_clast = window_keys[-1]\n",
    "    c2 = cell_cycles[key_c2]    \n",
    "    clast = cell_cycles[key_clast]\n",
    "    # summary keys are 0 indexed\n",
    "    summary_key_c2 = int(key_c2) - 1\n",
    "    summary_key_clast = int(key_clast) - 1\n",
    "    print(\"{}: [{}, {}], summary_keys [{}, {}]\".format(i, key_c2, key_clast, summary_key_c2, summary_key_clast))\n",
    "\n",
    "    # 1. delta_Q_100_10(V) -> delta_Q_last_2(V)\n",
    "    dQ_window = clast['Qdlin'] - c2['Qdlin']\n",
    "    minimum_dQ_window[i] = np.log(np.abs(np.min(dQ_window)))\n",
    "    variance_dQ_window[i] = np.log(np.var(dQ_window))\n",
    "    \n",
    "    # 2. Discharge capacity fade curve features\n",
    "    # Compute linear fit for cycles 2 to last:\n",
    "    # discharge cappacities; q.shape = (window_size-1, 1); \n",
    "    q = cell_summary['QD'][summary_key_c2:summary_key_clast].reshape(-1, 1)     \n",
    "    # Cylce index from 2 to last; X.shape = (window_size-1, 1)\n",
    "    X = np.array(window_keys)[2:].reshape(-1, 1) \n",
    "\n",
    "    linear_regressor_window = LinearRegression()\n",
    "    linear_regressor_window.fit(X, q)\n",
    "    slope_lin_fit_window[i] = linear_regressor_window.coef_[0]\n",
    "    intercept_lin_fit_window[i] = linear_regressor_window.intercept_\n",
    "    discharge_capacity_2[i] = q[0][0]\n",
    "        \n",
    "    # 3. Other features\n",
    "    summary_key_c6 = int(window_keys[5]) - 1\n",
    "    mean_charge_time_2_6[i] = np.mean(cell_summary['Discharge_time'][summary_key_c2:summary_key_c6])\n",
    "    minimum_IR_window[i] = np.min(cell_summary['IR'][summary_key_c2:summary_key_clast])\n",
    "    diff_IR_window[i] = cell_summary['IR'][summary_key_clast] - cell_summary['IR'][summary_key_c2]\n",
    "\n",
    "    # 4. Targets\n",
    "    target_remaining[i] = cell_summary['Remaining_cycles'][summary_key_clast]\n",
    "    target_current[i] = int(key_clast)"
   ]
  },
  {
   "cell_type": "code",
   "execution_count": null,
   "metadata": {},
   "outputs": [],
   "source": [
    "cell_summary.keys()"
   ]
  },
  {
   "cell_type": "code",
   "execution_count": null,
   "metadata": {},
   "outputs": [],
   "source": [
    "# assemble cell-level df\n",
    "cell_df = pd.DataFrame({\n",
    "    \"cell_key\": np.array(cell_k),\n",
    "    \"minimum_dQ_100_10\": minimum_dQ_window,\n",
    "    \"variance_dQ_window\": variance_dQ_window,\n",
    "    \"slope_lin_fit_window\": slope_lin_fit_window,\n",
    "    \"intercept_lin_fit_window\": intercept_lin_fit_window,\n",
    "    \"discharge_capacity_2\": discharge_capacity_2,\n",
    "    \"mean_charge_time_2_6\": mean_charge_time_2_6,\n",
    "    \"minimum_IR_window\": minimum_IR_window,\n",
    "    \"diff_IR_window\": diff_IR_window,\n",
    "    \"target_remaining\": np.array(target_remaining),\n",
    "    \"target_current\": np.array(target_current)\n",
    "})"
   ]
  },
  {
   "cell_type": "code",
   "execution_count": null,
   "metadata": {},
   "outputs": [],
   "source": [
    "cell_df.head()"
   ]
  },
  {
   "cell_type": "code",
   "execution_count": null,
   "metadata": {},
   "outputs": [],
   "source": [
    "cell_dfs = []\n",
    "\n",
    "for cell_k, cell_v in preprocessed_pkl.items():\n",
    "    print('processing', cell_k)\n",
    "    cell_cycles = cell_v['cycles']\n",
    "    cell_summary = cell_v['summary']\n",
    "    total_cycles = len(cell_cycles)\n",
    "\n",
    "    # slice cycle keys into windows\n",
    "    cycle_keys = list(cell_cycles.keys())\n",
    "    window_cycle_keys = []\n",
    "    for i, w_slice in enumerate(range(0, len(cycle_keys), shift)):\n",
    "        cycle_keys_slice = cycle_keys[w_slice : w_slice + window_size]\n",
    "        if len(cycle_keys_slice) % window_size == 0:  # drop remainder\n",
    "            window_cycle_keys.append(cycle_keys_slice)\n",
    "\n",
    "    # init value arrays\n",
    "    num_windows = len(window_cycle_keys)\n",
    "    assert num_windows == int((total_cycles-window_size) // shift) + 1\n",
    "    print('num_windows', num_windows, 'total_cycles', total_cycles)\n",
    "    minimum_dQ_window = np.zeros(num_windows)\n",
    "    variance_dQ_window = np.zeros(num_windows)\n",
    "    slope_lin_fit_window = np.zeros(num_windows)\n",
    "    intercept_lin_fit_window = np.zeros(num_windows)\n",
    "    discharge_capacity_2 = np.zeros(num_windows)\n",
    "    mean_discharge_time = np.zeros(num_windows)\n",
    "    minimum_IR_window = np.zeros(num_windows)\n",
    "    diff_IR_window = np.zeros(num_windows)\n",
    "    target_remaining = np.zeros(num_windows)\n",
    "    target_current = np.zeros(num_windows)\n",
    "\n",
    "    # build cell-level df\n",
    "    for i, window_keys in enumerate(window_cycle_keys):\n",
    "        key_c1 = window_keys[0]\n",
    "        key_clast = window_keys[-1]\n",
    "        # summary keys may not line up with cycle keys, since cycles could be cleaned up\n",
    "        summary_key_c1 = np.where(np.array(cycle_keys)==key_c1)[0][0]\n",
    "        summary_key_clast = np.where(np.array(cycle_keys)==key_clast)[0][0]\n",
    "        print(\"{}: [{}, {}], summary_keys: [{}, {}]\".format(i, key_c1, key_clast, summary_key_c1, summary_key_clast))\n",
    "\n",
    "        # 1. delta_Q_100_10(V) -> delta_Q_window(V)\n",
    "        dQ_window = cell_cycles[key_clast]['Qdlin'] - cell_cycles[key_c1]['Qdlin']\n",
    "        minimum_dQ_window[i] = np.log(np.abs(np.min(dQ_window)))\n",
    "        variance_dQ_window[i] = np.log(np.var(dQ_window))\n",
    "\n",
    "        # 2. Discharge capacity fade curve features\n",
    "        # Compute linear fit for cycles 2 to last:\n",
    "        # discharge cappacities; q.shape = (window_size, 1); \n",
    "        q = cell_summary['QD'][summary_key_c1:summary_key_clast+1].reshape(-1, 1).astype(np.float64) \n",
    "        # Cylce index from 2 to last; X.shape = (window_size, 1)\n",
    "        X = np.arange(window_size).reshape(-1, 1).astype(np.int32) \n",
    "\n",
    "        linear_regressor_window = LinearRegression()\n",
    "        linear_regressor_window.fit(X, q)\n",
    "        slope_lin_fit_window[i] = linear_regressor_window.coef_[0]\n",
    "        intercept_lin_fit_window[i] = linear_regressor_window.intercept_\n",
    "        discharge_capacity_2[i] = q[0][0]\n",
    "\n",
    "        # 3. Other features\n",
    "        mean_discharge_time[i] = np.mean(cell_summary['Discharge_time'][summary_key_c1:summary_key_clast+1])\n",
    "        minimum_IR_window[i] = np.min(cell_summary['IR'][summary_key_c1:summary_key_clast+1])\n",
    "        diff_IR_window[i] = cell_summary['IR'][summary_key_clast] - cell_summary['IR'][summary_key_c1]\n",
    "        \n",
    "        # 4. Targets\n",
    "        target_remaining[i] = cell_summary['Remaining_cycles'][summary_key_clast]\n",
    "        target_current[i] = int(key_clast)\n",
    "\n",
    "    # assemble cell-level df\n",
    "    cell_dfs.append(\n",
    "        pd.DataFrame({\n",
    "            \"cell_key\": np.array(cell_k, dtype=str),\n",
    "            \"minimum_dQ_100_10\": minimum_dQ_window,\n",
    "            \"variance_dQ_window\": variance_dQ_window,\n",
    "            \"slope_lin_fit_window\": slope_lin_fit_window,\n",
    "            \"intercept_lin_fit_window\": intercept_lin_fit_window,\n",
    "            \"discharge_capacity_2\": discharge_capacity_2,\n",
    "            \"mean_discharge_time\": mean_discharge_time,\n",
    "            \"minimum_IR_window\": minimum_IR_window,\n",
    "            \"diff_IR_window\": diff_IR_window,\n",
    "            \"target_remaining\": np.array(target_remaining, dtype=np.int32),\n",
    "            \"target_current\": np.array(target_current, dtype=np.int32)\n",
    "        }))\n",
    "    \n",
    "df = pd.concat(cell_dfs)"
   ]
  },
  {
   "cell_type": "code",
   "execution_count": null,
   "metadata": {},
   "outputs": [],
   "source": [
    "df.head(100)"
   ]
  },
  {
   "cell_type": "code",
   "execution_count": null,
   "metadata": {},
   "outputs": [],
   "source": [
    "df[df.cell_key==\"b2c14\"]"
   ]
  },
  {
   "cell_type": "code",
   "execution_count": null,
   "metadata": {},
   "outputs": [],
   "source": [
    "df.cell_key.value_counts()"
   ]
  },
  {
   "cell_type": "code",
   "execution_count": null,
   "metadata": {},
   "outputs": [],
   "source": [
    "df.shape"
   ]
  },
  {
   "cell_type": "code",
   "execution_count": null,
   "metadata": {},
   "outputs": [],
   "source": [
    "cycle_keys"
   ]
  }
 ],
 "metadata": {
  "kernelspec": {
   "display_name": "Python 3",
   "language": "python",
   "name": "python3"
  },
  "language_info": {
   "codemirror_mode": {
    "name": "ipython",
    "version": 3
   },
   "file_extension": ".py",
   "mimetype": "text/x-python",
   "name": "python",
   "nbconvert_exporter": "python",
   "pygments_lexer": "ipython3",
   "version": "3.7.3"
  }
 },
 "nbformat": 4,
 "nbformat_minor": 2
}
